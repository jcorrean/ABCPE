{
 "cells": [
  {
   "cell_type": "markdown",
   "id": "3dd9bb99",
   "metadata": {},
   "source": [
    "# Primero vamos a instalar la librería"
   ]
  },
  {
   "cell_type": "code",
   "execution_count": null,
   "id": "b96bd582",
   "metadata": {},
   "outputs": [],
   "source": [
    "!pip install transformers"
   ]
  },
  {
   "cell_type": "markdown",
   "id": "96d7a127",
   "metadata": {},
   "source": [
    "Vamos a verificar si la librería fue instalada correctamente al cargar el siguiente código y observar que no genera error"
   ]
  },
  {
   "cell_type": "code",
   "execution_count": 1,
   "id": "33f459e8",
   "metadata": {},
   "outputs": [],
   "source": [
    "import transformers"
   ]
  },
  {
   "cell_type": "code",
   "execution_count": 2,
   "id": "0f7826cc",
   "metadata": {},
   "outputs": [
    {
     "name": "stdout",
     "output_type": "stream",
     "text": [
      "Requirement already satisfied: transformers[sentencepiece] in /home/jc/anaconda3/lib/python3.9/site-packages (4.29.0)\n",
      "Requirement already satisfied: filelock in /home/jc/anaconda3/lib/python3.9/site-packages (from transformers[sentencepiece]) (3.9.0)\n",
      "Requirement already satisfied: huggingface-hub<1.0,>=0.11.0 in /home/jc/anaconda3/lib/python3.9/site-packages (from transformers[sentencepiece]) (0.14.1)\n",
      "Requirement already satisfied: numpy>=1.17 in /home/jc/anaconda3/lib/python3.9/site-packages (from transformers[sentencepiece]) (1.24.3)\n",
      "Requirement already satisfied: packaging>=20.0 in /home/jc/anaconda3/lib/python3.9/site-packages (from transformers[sentencepiece]) (23.0)\n",
      "Requirement already satisfied: pyyaml>=5.1 in /home/jc/anaconda3/lib/python3.9/site-packages (from transformers[sentencepiece]) (6.0)\n",
      "Requirement already satisfied: regex!=2019.12.17 in /home/jc/anaconda3/lib/python3.9/site-packages (from transformers[sentencepiece]) (2022.7.9)\n",
      "Requirement already satisfied: requests in /home/jc/anaconda3/lib/python3.9/site-packages (from transformers[sentencepiece]) (2.31.0)\n",
      "Requirement already satisfied: tokenizers!=0.11.3,<0.14,>=0.11.1 in /home/jc/anaconda3/lib/python3.9/site-packages (from transformers[sentencepiece]) (0.13.2)\n",
      "Requirement already satisfied: tqdm>=4.27 in /home/jc/anaconda3/lib/python3.9/site-packages (from transformers[sentencepiece]) (4.65.0)\n",
      "Collecting sentencepiece!=0.1.92,>=0.1.91 (from transformers[sentencepiece])\n",
      "  Downloading sentencepiece-0.1.99-cp39-cp39-manylinux_2_17_x86_64.manylinux2014_x86_64.whl (1.3 MB)\n",
      "\u001b[2K     \u001b[38;2;114;156;31m━━━━━━━━━━━━━━━━━━━━━━━━━━━━━━━━━━━━━━━━\u001b[0m \u001b[32m1.3/1.3 MB\u001b[0m \u001b[31m7.9 MB/s\u001b[0m eta \u001b[36m0:00:00\u001b[0m[31m8.0 MB/s\u001b[0m eta \u001b[36m0:00:01\u001b[0m\n",
      "\u001b[?25hRequirement already satisfied: protobuf<=3.20.2 in /home/jc/anaconda3/lib/python3.9/site-packages (from transformers[sentencepiece]) (3.19.6)\n",
      "Requirement already satisfied: fsspec in /home/jc/anaconda3/lib/python3.9/site-packages (from huggingface-hub<1.0,>=0.11.0->transformers[sentencepiece]) (2023.4.0)\n",
      "Requirement already satisfied: typing-extensions>=3.7.4.3 in /home/jc/anaconda3/lib/python3.9/site-packages (from huggingface-hub<1.0,>=0.11.0->transformers[sentencepiece]) (4.5.0)\n",
      "Requirement already satisfied: charset-normalizer<4,>=2 in /home/jc/anaconda3/lib/python3.9/site-packages (from requests->transformers[sentencepiece]) (2.0.4)\n",
      "Requirement already satisfied: idna<4,>=2.5 in /home/jc/anaconda3/lib/python3.9/site-packages (from requests->transformers[sentencepiece]) (3.4)\n",
      "Requirement already satisfied: urllib3<3,>=1.21.1 in /home/jc/anaconda3/lib/python3.9/site-packages (from requests->transformers[sentencepiece]) (1.26.16)\n",
      "Requirement already satisfied: certifi>=2017.4.17 in /home/jc/anaconda3/lib/python3.9/site-packages (from requests->transformers[sentencepiece]) (2023.7.22)\n",
      "Installing collected packages: sentencepiece\n",
      "Successfully installed sentencepiece-0.1.99\n"
     ]
    }
   ],
   "source": [
    "!pip install transformers[sentencepiece]"
   ]
  }
 ],
 "metadata": {
  "kernelspec": {
   "display_name": "Python 3 (ipykernel)",
   "language": "python",
   "name": "python3"
  },
  "language_info": {
   "codemirror_mode": {
    "name": "ipython",
    "version": 3
   },
   "file_extension": ".py",
   "mimetype": "text/x-python",
   "name": "python",
   "nbconvert_exporter": "python",
   "pygments_lexer": "ipython3",
   "version": "3.9.17"
  }
 },
 "nbformat": 4,
 "nbformat_minor": 5
}
