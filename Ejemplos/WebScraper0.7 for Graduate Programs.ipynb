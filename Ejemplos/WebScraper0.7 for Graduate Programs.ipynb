{
 "cells": [
  {
   "cell_type": "code",
   "execution_count": 1,
   "id": "ba2c9860",
   "metadata": {
    "scrolled": false
   },
   "outputs": [],
   "source": [
    "import csv\n",
    "import requests\n",
    "from selenium import webdriver\n",
    "from selenium.webdriver.common.by import By\n",
    "from selenium.webdriver.support.ui import WebDriverWait\n",
    "from selenium.webdriver.support import expected_conditions as EC\n",
    "\n",
    "# Read the list of URLs from the CSV file\n",
    "with open('programs.csv', 'r') as f:\n",
    "    reader = csv.reader(f)\n",
    "    for row in reader:\n",
    "        program_url = row[0]\n",
    "\n",
    "        # Open the program URL in Firefox\n",
    "        driver = webdriver.Firefox()\n",
    "        driver.get(program_url)\n",
    "\n",
    "        # Wait for the page to load\n",
    "        WebDriverWait(driver, 20).until(EC.presence_of_element_located((By.TAG_NAME, \"body\")))\n",
    "\n",
    "        # Get the current page source\n",
    "        page_source = driver.page_source\n",
    "\n",
    "        # Create a PDF file from the page source\n",
    "        pdf_file = open(program_url.split('/')[-1] + '.pdf', 'wb')\n",
    "        pdf_file.write(page_source.encode('utf-8'))\n",
    "        pdf_file.close()\n",
    "\n",
    "        # Close the Firefox browser\n",
    "        driver.quit()"
   ]
  },
  {
   "cell_type": "code",
   "execution_count": null,
   "id": "679c8b2f",
   "metadata": {},
   "outputs": [],
   "source": []
  }
 ],
 "metadata": {
  "kernelspec": {
   "display_name": "Python 3 (ipykernel)",
   "language": "python",
   "name": "python3"
  },
  "language_info": {
   "codemirror_mode": {
    "name": "ipython",
    "version": 3
   },
   "file_extension": ".py",
   "mimetype": "text/x-python",
   "name": "python",
   "nbconvert_exporter": "python",
   "pygments_lexer": "ipython3",
   "version": "3.9.17"
  }
 },
 "nbformat": 4,
 "nbformat_minor": 5
}
