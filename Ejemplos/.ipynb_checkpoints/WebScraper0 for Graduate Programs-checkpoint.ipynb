{
 "cells": [
  {
   "cell_type": "code",
   "execution_count": 1,
   "id": "13e2b909",
   "metadata": {},
   "outputs": [
    {
     "name": "stdout",
     "output_type": "stream",
     "text": [
      "File not found\n",
      "Trial {0}\n"
     ]
    }
   ],
   "source": [
    "from selenium import webdriver\n",
    "from selenium.webdriver.firefox.options import Options\n",
    "from selenium.webdriver.common.by import By\n",
    "import pandas as pd\n",
    "import json\n",
    "import os\n",
    "\n",
    "temp_folder = '/home/jc/pdf_files_temp/'\n",
    "if not os.path.exists(temp_folder):\n",
    "    os.makedirs(temp_folder)\n",
    "\n",
    "# Set Firefox options\n",
    "options = Options()\n",
    "options.add_argument(\"--kiosk-printing\")\n",
    "\n",
    "# Set the path to geckodriver executable\n",
    "geckodriver_path = '/path/to/geckodriver'\n",
    "\n",
    "# Create the Firefox driver\n",
    "driver = webdriver.Firefox(options=options)\n",
    "\n",
    "# Load the list of Mexican universities from the provided URL\n",
    "url = 'https://www.webometrics.info/en/Latin_America/Mexico'\n",
    "driver.get(url)\n",
    "\n",
    "# Find the table containing the university rankings\n",
    "table = driver.find_element(By.XPATH, \"//table[@class='sticky-enabled tableheader-processed sticky-table']\")\n",
    "\n",
    "# Extract the university names from the table\n",
    "universities = []\n",
    "rows = table.find_elements(By.XPATH, \".//tbody/tr[@class='odd' or @class='even']\")\n",
    "for row in rows:\n",
    "    name = row.find_element(By.XPATH, \".//td[2]\").text\n",
    "    universities.append(name)\n",
    "\n",
    "# Close the Firefox driver\n",
    "driver.quit()\n",
    "\n",
    "try:\n",
    "        ## Change the file name using the university and program name\n",
    "        # Ones the file was saved, the script read the files on the folder path\n",
    "        archivo = os.listdir('/home/jc/pdf_files_temp')\n",
    "        # From all the files on the temporary folder, we choose the first\n",
    "        archivo2 = os.path.join(\"/home/jc/pdf_files_temp/\", archivo[0])\n",
    "        # We rename the file name using the university and program name\n",
    "        Nombre = os.path.join(\"/home/jc/pdf_files/\" + Programas['NM_PROGRAMA_IES'][x] + \"_\" + Programas['NM_ENTIDADE_ENSINO'][x] + \".pdf\") \n",
    "        # move the original file from the temporal folder to the results folder changing its name\n",
    "        os.rename(archivo2, Nombre)\n",
    "except:\n",
    "        print(\"File not found\")\n",
    "    \n",
    "    # after rename, the rest of the file on the temporal folder will be erased   \n",
    "path = r\"/home/jc/pdf_files_temp/\"\n",
    "for file_name in os.listdir(path):\n",
    "   \n",
    "        file = path + file_name\n",
    "        if os.path.isfile(file):\n",
    "            print('Deleting file:', file)\n",
    "            os.remove(file)\n",
    "    # showing progress\n",
    "x = 0  # Or any other appropriate value depending on your program logic\n",
    "print('Trial',{x} )"
   ]
  },
  {
   "cell_type": "code",
   "execution_count": null,
   "id": "b31b4dd0",
   "metadata": {},
   "outputs": [],
   "source": []
  }
 ],
 "metadata": {
  "kernelspec": {
   "display_name": "Python 3 (ipykernel)",
   "language": "python",
   "name": "python3"
  },
  "language_info": {
   "codemirror_mode": {
    "name": "ipython",
    "version": 3
   },
   "file_extension": ".py",
   "mimetype": "text/x-python",
   "name": "python",
   "nbconvert_exporter": "python",
   "pygments_lexer": "ipython3",
   "version": "3.9.7"
  }
 },
 "nbformat": 4,
 "nbformat_minor": 5
}
