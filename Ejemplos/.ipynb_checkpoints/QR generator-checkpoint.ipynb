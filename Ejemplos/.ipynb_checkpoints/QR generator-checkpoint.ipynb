{
 "cells": [
  {
   "cell_type": "code",
   "execution_count": null,
   "id": "64c9bbbd",
   "metadata": {},
   "outputs": [],
   "source": [
    "#pip install qrcode[pil]"
   ]
  },
  {
   "cell_type": "code",
   "execution_count": null,
   "id": "38bfde53",
   "metadata": {},
   "outputs": [],
   "source": [
    "#pip install pillow"
   ]
  },
  {
   "cell_type": "code",
   "execution_count": 1,
   "id": "1ea07a9d",
   "metadata": {},
   "outputs": [],
   "source": [
    "import qrcode\n",
    "\n",
    "def generate_qr_code(data, file_name):\n",
    "    qr = qrcode.QRCode(version=1, box_size=10, border=5)\n",
    "    qr.add_data(data)\n",
    "    qr.make(fit=True)\n",
    "\n",
    "    img = qr.make_image(fill_color='black', back_color='white')\n",
    "\n",
    "    img.save(file_name)\n",
    "\n",
    "if __name__ == \"__main__\":\n",
    "    data_to_encode = \"https://chat.openai.com/share/4e74ba78-9f41-4dc3-83a6-e30a58d1fba4\"\n",
    "    output_file_name = \"QR.png\"\n",
    "\n",
    "    generate_qr_code(data_to_encode, output_file_name)"
   ]
  },
  {
   "cell_type": "code",
   "execution_count": 2,
   "id": "88611308",
   "metadata": {},
   "outputs": [
    {
     "data": {
      "image/png": "[encoded data removed]",
      "text/plain": [
       "<qrcode.image.pil.PilImage at 0x7f12e82352b0>"
      ]
     },
     "metadata": {},
     "output_type": "display_data"
    }
   ],
   "source": [
    "import qrcode\n",
    "from IPython.display import Image, display\n",
    "\n",
    "def generate_qr_code(data):\n",
    "    qr = qrcode.QRCode(version=1, box_size=10, border=5)\n",
    "    qr.add_data(data)\n",
    "    qr.make(fit=True)\n",
    "\n",
    "    img = qr.make_image(fill_color='black', back_color='white')\n",
    "    return img\n",
    "\n",
    "if __name__ == \"__main__\":\n",
    "    data_to_encode = \"https://chat.openai.com/share/4e74ba78-9f41-4dc3-83a6-e30a58d1fba4\"\n",
    "\n",
    "    qr_code = generate_qr_code(data_to_encode)\n",
    "\n",
    "    # Display the QR code directly in the Jupyter Notebook\n",
    "    display(qr_code)\n"
   ]
  }
 ],
 "metadata": {
  "kernelspec": {
   "display_name": "Python 3 (ipykernel)",
   "language": "python",
   "name": "python3"
  },
  "language_info": {
   "codemirror_mode": {
    "name": "ipython",
    "version": 3
   },
   "file_extension": ".py",
   "mimetype": "text/x-python",
   "name": "python",
   "nbconvert_exporter": "python",
   "pygments_lexer": "ipython3",
   "version": "3.9.7"
  }
 },
 "nbformat": 4,
 "nbformat_minor": 5
}
