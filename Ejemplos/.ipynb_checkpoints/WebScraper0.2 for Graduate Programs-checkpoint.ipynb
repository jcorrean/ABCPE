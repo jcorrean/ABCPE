{
 "cells": [
  {
   "cell_type": "code",
   "execution_count": 1,
   "id": "72bd1912",
   "metadata": {},
   "outputs": [
    {
     "name": "stdout",
     "output_type": "stream",
     "text": [
      "Scraping and CSV creation completed.\n"
     ]
    }
   ],
   "source": [
    "import requests\n",
    "from bs4 import BeautifulSoup\n",
    "import csv\n",
    "\n",
    "# URL of the page to scrape\n",
    "url = \"https://www.webometrics.info/en/Latin_America/Mexico\"\n",
    "\n",
    "# Send a GET request to the URL\n",
    "response = requests.get(url)\n",
    "\n",
    "# Create a BeautifulSoup object\n",
    "soup = BeautifulSoup(response.text, 'html.parser')\n",
    "\n",
    "# Find the table containing the program information\n",
    "table = soup.find('table', {'class': 'sticky-enabled'})\n",
    "\n",
    "# Create a CSV file and write header row\n",
    "with open('university_programs.csv', 'w', newline='') as csvfile:\n",
    "    writer = csv.writer(csvfile)\n",
    "    writer.writerow(['University Name', 'Program Name', 'Program URL'])\n",
    "\n",
    "    # Find all rows in the table\n",
    "    rows = table.find_all('tr')\n",
    "\n",
    "    # Iterate over the rows\n",
    "    for row in rows[1:]:  # Exclude the header row\n",
    "        # Extract the university name, program name, and program URL\n",
    "        university = row.find('a').text\n",
    "        program = row.find_all('td')[2].text\n",
    "        program_url = row.find('a')['href']\n",
    "\n",
    "        # Write the data to the CSV file\n",
    "        writer.writerow([university, program, program_url])\n",
    "\n",
    "print(\"Scraping and CSV creation completed.\")"
   ]
  }
 ],
 "metadata": {
  "kernelspec": {
   "display_name": "Python 3 (ipykernel)",
   "language": "python",
   "name": "python3"
  },
  "language_info": {
   "codemirror_mode": {
    "name": "ipython",
    "version": 3
   },
   "file_extension": ".py",
   "mimetype": "text/x-python",
   "name": "python",
   "nbconvert_exporter": "python",
   "pygments_lexer": "ipython3",
   "version": "3.9.7"
  }
 },
 "nbformat": 4,
 "nbformat_minor": 5
}
