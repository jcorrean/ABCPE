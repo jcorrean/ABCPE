{
 "cells": [
  {
   "cell_type": "code",
   "execution_count": 2,
   "id": "ba2c9860",
   "metadata": {
    "scrolled": false
   },
   "outputs": [
    {
     "name": "stdout",
     "output_type": "stream",
     "text": [
      "Error during scraping: Message: TimedPromise timed out after 300000 ms\n",
      "Stacktrace:\n",
      "RemoteError@chrome://remote/content/shared/RemoteError.sys.mjs:8:8\n",
      "WebDriverError@chrome://remote/content/shared/webdriver/Errors.sys.mjs:182:5\n",
      "TimeoutError@chrome://remote/content/shared/webdriver/Errors.sys.mjs:492:5\n",
      "bail@chrome://remote/content/marionette/sync.sys.mjs:211:19\n",
      "\n"
     ]
    }
   ],
   "source": [
    "import os\n",
    "import time\n",
    "from selenium import webdriver\n",
    "from selenium.webdriver.common.by import By   \n",
    "from selenium.webdriver.support.ui import WebDriverWait  \n",
    "from selenium.webdriver.support import expected_conditions as EC   \n",
    "from selenium.common.exceptions import NoSuchElementException\n",
    "\n",
    "def google_search_and_download(query):\n",
    "\n",
    "    driver_path = '/path/to/geckodriver'  # Replace with the path to your geckodriver executable\n",
    "    options = webdriver.FirefoxOptions()\n",
    "    options.add_argument('-headless')  # Run Firefox in headless mode\n",
    "    driver = webdriver.Firefox(options=options)\n",
    "\n",
    "    try:\n",
    "        # Perform Google search and extract URLs\n",
    "        university_urls = []  # Create an empty list to store the URLs\n",
    "\n",
    "        driver.get(f\"https://www.google.com/search?q={query}\")\n",
    "        time.sleep(2)\n",
    "\n",
    "        # Find all search result links\n",
    "        search_results = driver.find_elements(By.CSS_SELECTOR, '.tF2Cxc')\n",
    "        for result in search_results:\n",
    "            link = result.find_element(By.CSS_SELECTOR, '.yuRUbf a')\n",
    "            url = link.get_attribute('href')\n",
    "            university_urls.append(url)\n",
    "\n",
    "        # Loop through university URLs\n",
    "        for url in university_urls:\n",
    "            driver.get(url)\n",
    "            time.sleep(2)\n",
    "\n",
    "            # Rest of your code to click on links and download PDFs...\n",
    "            # Note: You might want to handle PDF download here.\n",
    "\n",
    "    except Exception as e:\n",
    "        print(f\"Error during scraping: {e}\")\n",
    "\n",
    "    finally:\n",
    "        driver.quit()\n",
    "\n",
    "def main():\n",
    "    # Create a folder to save downloaded PDFs\n",
    "    if not os.path.exists(\"downloaded_pdfs\"):\n",
    "        os.makedirs(\"downloaded_pdfs\")\n",
    "\n",
    "    # Define your query to search for Canadian universities' graduate programs\n",
    "    query = \"site:.ca graduate programs inurl:.pdf\"\n",
    "    num_programs_to_download = 200\n",
    "\n",
    "    # Perform the Google search and download PDFs\n",
    "    google_search_and_download(query)\n",
    "\n",
    "if __name__ == \"__main__\":\n",
    "    main()"
   ]
  },
  {
   "cell_type": "code",
   "execution_count": null,
   "id": "679c8b2f",
   "metadata": {},
   "outputs": [],
   "source": []
  }
 ],
 "metadata": {
  "kernelspec": {
   "display_name": "Python 3 (ipykernel)",
   "language": "python",
   "name": "python3"
  },
  "language_info": {
   "codemirror_mode": {
    "name": "ipython",
    "version": 3
   },
   "file_extension": ".py",
   "mimetype": "text/x-python",
   "name": "python",
   "nbconvert_exporter": "python",
   "pygments_lexer": "ipython3",
   "version": "3.9.17"
  }
 },
 "nbformat": 4,
 "nbformat_minor": 5
}
