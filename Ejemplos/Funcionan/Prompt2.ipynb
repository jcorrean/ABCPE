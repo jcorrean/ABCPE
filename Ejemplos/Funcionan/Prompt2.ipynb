{
  "nbformat": 4,
  "nbformat_minor": 0,
  "metadata": {
    "colab": {
      "provenance": []
    },
    "kernelspec": {
      "name": "python3",
      "display_name": "Python 3"
    },
    "language_info": {
      "name": "python"
    }
  },
  "cells": [
    {
      "cell_type": "code",
      "execution_count": 2,
      "metadata": {
        "id": "yMvTmmvTCtfF"
      },
      "outputs": [],
      "source": [
        "from googlesearch import search\n",
        "import csv\n",
        "\n",
        "query = \"maestría en ciencias Universidad Autónoma de México\"\n",
        "\n",
        "urls = []\n",
        "\n",
        "for j in search(query, tld=\"co.in\", num=10, stop=10, pause=2):\n",
        "    urls.append(j)\n",
        "\n",
        "with open('mexico_science_urls.csv', 'w') as f:\n",
        "    writer = csv.writer(f)\n",
        "    writer.writerow([\"URL\"])\n",
        "    writer.writerows([[url] for url in urls])"
      ]
    },
    {
      "cell_type": "markdown",
      "source": [
        "The only change is updating the search query string to:\n",
        "\n",
        "\"maestría en ciencias Universidad Autónoma de México\"\n",
        "\n",
        "This will narrow the results specifically to programs related to science fields, rather than all graduate programs at the university.\n",
        "\n",
        "Let me know if you need any other modifications to the script! Scraping Google like this provides a simple programmatic way to search and extract URLs without API access."
      ],
      "metadata": {
        "id": "XDO6JCPHIbwi"
      }
    }
  ]
}