{
  "nbformat": 4,
  "nbformat_minor": 0,
  "metadata": {
    "colab": {
      "provenance": []
    },
    "kernelspec": {
      "name": "python3",
      "display_name": "Python 3"
    },
    "language_info": {
      "name": "python"
    }
  },
  "cells": [
    {
      "cell_type": "markdown",
      "source": [
        "Can you redo the code above to narrow the results with URLs with the string \"unam.edu.mx\"?"
      ],
      "metadata": {
        "id": "AWzALkWrJW_C"
      }
    },
    {
      "cell_type": "code",
      "execution_count": null,
      "metadata": {
        "id": "legqopstJTRK"
      },
      "outputs": [],
      "source": [
        "from googlesearch import search\n",
        "import csv\n",
        "import re\n",
        "\n",
        "query = \"graduate programs in science Universidad Autónoma de México\"\n",
        "\n",
        "urls = []\n",
        "\n",
        "for j in search(query, tld=\"co.in\", num=10, stop=10, pause=2):\n",
        "    if \"unam.edu.mx\" in j:\n",
        "        urls.append(j)\n",
        "\n",
        "with open('mexico_science_unam_urls.csv', 'w') as f:\n",
        "    writer = csv.writer(f)\n",
        "    writer.writerow([\"URL\"])\n",
        "    writer.writerows([[url] for url in urls])"
      ]
    },
    {
      "cell_type": "markdown",
      "source": [
        "The main changes:\n",
        "\n",
        "Added an import for the regular expression module re\n",
        "\n",
        "Added a check using if \"unam.edu.mx\" in j: before appending to the urls list\n",
        "\n",
        "This will filter the results to only include URLs that contain the string \"unam.edu.mx\".\n",
        "\n",
        "Let me know if you need any other modifications!"
      ],
      "metadata": {
        "id": "MJ-atCwTJd_D"
      }
    }
  ]
}