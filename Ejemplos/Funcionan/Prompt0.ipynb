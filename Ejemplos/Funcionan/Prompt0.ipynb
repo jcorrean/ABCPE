{
  "nbformat": 4,
  "nbformat_minor": 0,
  "metadata": {
    "colab": {
      "provenance": []
    },
    "kernelspec": {
      "name": "python3",
      "display_name": "Python 3"
    },
    "language_info": {
      "name": "python"
    }
  },
  "cells": [
    {
      "cell_type": "code",
      "execution_count": null,
      "metadata": {
        "id": "WZRr80muHdI2"
      },
      "outputs": [],
      "source": [
        "import csv\n",
        "import requests\n",
        "import json\n",
        "\n",
        "# Bing Search API URL and API key\n",
        "url = \"https://api.cognitive.microsoft.com/bing/v7.0/search\"\n",
        "key = \"YOUR_BING_SEARCH_API_KEY\"\n",
        "\n",
        "# Terms to search for\n",
        "search_term = \"graduate programs Universidad Autónoma de México\"\n",
        "\n",
        "# Make the Bing Search API request\n",
        "headers = {\"Ocp-Apim-Subscription-Key\": key}\n",
        "params = {\"q\": search_term, \"textDecorations\": True, \"textFormat\": \"HTML\"}\n",
        "response = requests.get(url, headers=headers, params=params)\n",
        "results = response.json()\n",
        "\n",
        "# Extract URLs from results\n",
        "urls = []\n",
        "for result in results[\"webPages\"][\"value\"]:\n",
        "    urls.append(result[\"url\"])\n",
        "\n",
        "# Write URLs to CSV\n",
        "with open('mexico_university_urls.csv','w') as f:\n",
        "    write = csv.writer(f)\n",
        "    write.writerow([\"URL\"])\n",
        "    write.writerows([[url] for url in urls])"
      ]
    },
    {
      "cell_type": "markdown",
      "source": [
        "This code makes a request to the Bing Search API using your API key and search term. It extracts the URLs from the results and writes them to a CSV file called 'mexico_university_urls.csv'.\n",
        "\n",
        "You would need to replace 'YOUR_BING_SEARCH_API_KEY' with your actual Bing Search API key. Let me know if you have any other questions!"
      ],
      "metadata": {
        "id": "qxd4jsWnHeXA"
      }
    }
  ]
}