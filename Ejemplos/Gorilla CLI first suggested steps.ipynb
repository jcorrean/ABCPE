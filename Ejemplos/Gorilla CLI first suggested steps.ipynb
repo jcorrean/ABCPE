{
 "cells": [
  {
   "cell_type": "code",
   "execution_count": 1,
   "id": "bcf57312",
   "metadata": {},
   "outputs": [
    {
     "name": "stdout",
     "output_type": "stream",
     "text": [
      "Collecting gorilla-cli\n",
      "  Downloading gorilla-cli-0.0.9.tar.gz (28 kB)\n",
      "  Preparing metadata (setup.py) ... \u001b[?25ldone\n",
      "\u001b[?25hRequirement already satisfied: requests in /home/jc/anaconda3/lib/python3.9/site-packages (from gorilla-cli) (2.31.0)\n",
      "Collecting halo (from gorilla-cli)\n",
      "  Downloading halo-0.0.31.tar.gz (11 kB)\n",
      "  Preparing metadata (setup.py) ... \u001b[?25ldone\n",
      "\u001b[?25hRequirement already satisfied: prompt-toolkit in /home/jc/anaconda3/lib/python3.9/site-packages (from gorilla-cli) (3.0.36)\n",
      "Collecting log_symbols>=0.0.14 (from halo->gorilla-cli)\n",
      "  Downloading log_symbols-0.0.14-py3-none-any.whl (3.1 kB)\n",
      "Collecting spinners>=0.0.24 (from halo->gorilla-cli)\n",
      "  Downloading spinners-0.0.24-py3-none-any.whl (5.5 kB)\n",
      "Collecting termcolor>=1.1.0 (from halo->gorilla-cli)\n",
      "  Downloading termcolor-2.3.0-py3-none-any.whl (6.9 kB)\n",
      "Requirement already satisfied: colorama>=0.3.9 in /home/jc/anaconda3/lib/python3.9/site-packages (from halo->gorilla-cli) (0.4.6)\n",
      "Requirement already satisfied: six>=1.12.0 in /home/jc/anaconda3/lib/python3.9/site-packages (from halo->gorilla-cli) (1.16.0)\n",
      "Requirement already satisfied: wcwidth in /home/jc/anaconda3/lib/python3.9/site-packages (from prompt-toolkit->gorilla-cli) (0.2.5)\n",
      "Requirement already satisfied: charset-normalizer<4,>=2 in /home/jc/anaconda3/lib/python3.9/site-packages (from requests->gorilla-cli) (2.0.4)\n",
      "Requirement already satisfied: idna<4,>=2.5 in /home/jc/anaconda3/lib/python3.9/site-packages (from requests->gorilla-cli) (3.4)\n",
      "Requirement already satisfied: urllib3<3,>=1.21.1 in /home/jc/anaconda3/lib/python3.9/site-packages (from requests->gorilla-cli) (1.26.16)\n",
      "Requirement already satisfied: certifi>=2017.4.17 in /home/jc/anaconda3/lib/python3.9/site-packages (from requests->gorilla-cli) (2023.7.22)\n",
      "Building wheels for collected packages: gorilla-cli, halo\n",
      "  Building wheel for gorilla-cli (setup.py) ... \u001b[?25ldone\n",
      "\u001b[?25h  Created wheel for gorilla-cli: filename=gorilla_cli-0.0.9-py3-none-any.whl size=37698 sha256=25806006a49e1fd97776c3751a974078c69e114ff25f7c97136b6f275f4dea58\n",
      "  Stored in directory: /home/jc/.cache/pip/wheels/f2/ab/56/2116b9fd45b3a9adb95c9dd1d9e4e87839e6bd20d733cdf1c3\n",
      "  Building wheel for halo (setup.py) ... \u001b[?25ldone\n",
      "\u001b[?25h  Created wheel for halo: filename=halo-0.0.31-py3-none-any.whl size=11242 sha256=df86814be5c8fb3f5baf78ddbfe1eb5fe9d5b79f7f315f1e499d68ee111d5eca\n",
      "  Stored in directory: /home/jc/.cache/pip/wheels/bb/85/47/b7c7338ab52808105f937bd8c04aec5d98a543311ac2c8bed2\n",
      "Successfully built gorilla-cli halo\n",
      "Installing collected packages: spinners, termcolor, log_symbols, halo, gorilla-cli\n",
      "Successfully installed gorilla-cli-0.0.9 halo-0.0.31 log_symbols-0.0.14 spinners-0.0.24 termcolor-2.3.0\n",
      "Note: you may need to restart the kernel to use updated packages.\n"
     ]
    }
   ],
   "source": [
    "pip install gorilla-cli"
   ]
  },
  {
   "cell_type": "code",
   "execution_count": null,
   "id": "31e90260",
   "metadata": {},
   "outputs": [],
   "source": []
  }
 ],
 "metadata": {
  "kernelspec": {
   "display_name": "Python 3 (ipykernel)",
   "language": "python",
   "name": "python3"
  },
  "language_info": {
   "codemirror_mode": {
    "name": "ipython",
    "version": 3
   },
   "file_extension": ".py",
   "mimetype": "text/x-python",
   "name": "python",
   "nbconvert_exporter": "python",
   "pygments_lexer": "ipython3",
   "version": "3.9.7"
  }
 },
 "nbformat": 4,
 "nbformat_minor": 5
}
